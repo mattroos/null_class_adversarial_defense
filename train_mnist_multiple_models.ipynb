{
 "cells": [
  {
   "cell_type": "markdown",
   "metadata": {},
   "source": [
    "# Train and test a set of models of different noise (or noise free) types"
   ]
  },
  {
   "cell_type": "code",
   "execution_count": null,
   "metadata": {
    "scrolled": false
   },
   "outputs": [],
   "source": [
    "#!/usr/bin/env python\n",
    "# coding: utf-8\n",
    "\n",
    "from __future__ import division\n",
    "\n",
    "import numpy as np\n",
    "import time\n",
    "import os\n",
    "import pickle\n",
    "\n",
    "import tensorflow as tf\n",
    "from tensorflow.keras.optimizers import Adam\n",
    "from tensorflow.keras.losses import SparseCategoricalCrossentropy\n",
    "\n",
    "import import_ipynb\n",
    "from data_generators import mnist_generator\n",
    "from utilities import train_mnist\n",
    "from model_architectures import build_model_cnn"
   ]
  },
  {
   "cell_type": "code",
   "execution_count": null,
   "metadata": {
    "scrolled": false
   },
   "outputs": [],
   "source": [
    "model_null_types = [None, 'u', 's', 'm', 'us', 'um', 'sm', 'usm']\n",
    "\n",
    "dir_models = './saved_models_mnist_sets/'\n",
    "batch_size = 32\n",
    "n_epochs = 20\n",
    "\n",
    "# Download the MNIST data located here: http://yann.lecun.com/exdb/mnist/\n",
    "# and set dir_mnist to the location of your downloaded data:\n",
    "dir_mnist = './mnist'\n",
    "# dir_mnist = '/home/mroos/Data/pylearn2data/mnist'\n",
    "\n",
    "for i_model_set in range(0, 31):\n",
    "    seed = i_model_set\n",
    "    np.random.seed(seed)\n",
    "    tf.random.set_seed(seed)\n",
    "    for null_types in model_null_types:\n",
    "        # Instantiate generators. One for training data and one for testing data.\n",
    "        if null_types is None:\n",
    "            p_null_class = 0.0\n",
    "        else:\n",
    "            p_null_class = 0.5\n",
    "        gen_train = mnist_generator(dir_mnist, batch_size=batch_size, dataset='train',\n",
    "                                    random_order=True, null_types=null_types, p_null_class=p_null_class)\n",
    "        gen_test = mnist_generator(dir_mnist, batch_size=batch_size, dataset='test',\n",
    "                                    random_order=False, null_types=null_types, p_null_class=p_null_class)\n",
    "\n",
    "        print('\\n\\n==========================================')\n",
    "        print('Training model set %d, null_types=%s' % (i_model_set, null_types))\n",
    "        print('==========================================\\n')\n",
    "        \n",
    "        model = build_model_cnn(include_null_class=True)\n",
    "        optimizer = Adam(learning_rate=0.001, beta_1=0.9, beta_2=0.999, epsilon=1e-08)\n",
    "        loss_instance = SparseCategoricalCrossentropy(from_logits=True) # uses categorical integer label encoding\n",
    "        metrics = [tf.keras.metrics.SparseCategoricalAccuracy()]\n",
    "        model.compile(optimizer=optimizer, loss=loss_instance, metrics=metrics)    \n",
    "\n",
    "        if null_types is None:\n",
    "            model_filename = os.path.join(dir_models, 'mnist_model_baseline_%0.2d.h5' % (i_model_set))\n",
    "            history_filename = os.path.join(dir_models, 'mnist_model_history_baseline_%0.2d.pkl' % (i_model_set))\n",
    "        else:\n",
    "            model_filename = os.path.join(dir_models, 'mnist_model_%s_%0.2d.h5' % (null_types, i_model_set))\n",
    "            history_filename = os.path.join(dir_models, 'mnist_model_history_%s_%0.2d.pkl' % (null_types, i_model_set))\n",
    "\n",
    "        model, history = train_mnist(model, gen_train=gen_train, gen_test=gen_test,\n",
    "                                     n_epochs=n_epochs, model_filename=model_filename, verbose=0)\n",
    "\n",
    "        pickle.dump(history.history, open(history_filename, 'wb'))"
   ]
  }
 ],
 "metadata": {
  "kernelspec": {
   "display_name": "env_tensorflow2",
   "language": "python",
   "name": "env_tensorflow2"
  },
  "language_info": {
   "codemirror_mode": {
    "name": "ipython",
    "version": 3
   },
   "file_extension": ".py",
   "mimetype": "text/x-python",
   "name": "python",
   "nbconvert_exporter": "python",
   "pygments_lexer": "ipython3",
   "version": "3.6.9"
  }
 },
 "nbformat": 4,
 "nbformat_minor": 2
}
