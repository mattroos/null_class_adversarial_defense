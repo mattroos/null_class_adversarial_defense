{
 "cells": [
  {
   "cell_type": "code",
   "execution_count": null,
   "metadata": {
    "scrolled": true
   },
   "outputs": [],
   "source": [
    "#!/usr/bin/env python\n",
    "# coding: utf-8\n",
    "\n",
    "from __future__ import division\n",
    "\n",
    "import numpy as np\n",
    "import sys\n",
    "\n",
    "import import_ipynb\n",
    "from data_generators import mnist_generator\n",
    "\n",
    "# %matplotlib notebook\n",
    "%matplotlib inline\n",
    "import matplotlib.pyplot as plt"
   ]
  },
  {
   "cell_type": "code",
   "execution_count": null,
   "metadata": {},
   "outputs": [],
   "source": [
    "# Set RNG seeds, for repeatability\n",
    "\n",
    "seed = 0\n",
    "np.random.seed(seed)"
   ]
  },
  {
   "cell_type": "code",
   "execution_count": null,
   "metadata": {},
   "outputs": [],
   "source": [
    "# Locate MNIST files\n",
    "\n",
    "# Download the MNIST data located here: http://yann.lecun.com/exdb/mnist/\n",
    "# and set dir_mnist to the location of your downloaded data:\n",
    "dir_mnist = './mnist'\n",
    "# dir_mnist = '/home/mroos/Data/pylearn2data/mnist'"
   ]
  },
  {
   "cell_type": "code",
   "execution_count": null,
   "metadata": {},
   "outputs": [],
   "source": [
    "## Get all the images\n",
    "\n",
    "# Get uniform noise samples\n",
    "batch_size = 10 # make this a multiple of 5\n",
    "gen_data = mnist_generator(dir_mnist, batch_size=batch_size, dataset='test',\n",
    "                           random_order=False, null_types='u', p_null_class=100)\n",
    "im_uniform, label, _ = next(gen_data)\n",
    "\n",
    "# Get mixed noise samples\n",
    "gen_data = mnist_generator(dir_mnist, batch_size=batch_size, dataset='test',\n",
    "                           random_order=False, null_types='m', p_null_class=100)\n",
    "im_mixed, label, _ = next(gen_data)\n",
    "\n",
    "\n",
    "# Get shuffled noise samples\n",
    "im_shuff = []\n",
    "batch_size_shuff = batch_size//5\n",
    "for tile_size in [1, 2, 4, 7, 14]:\n",
    "    gen_data = mnist_generator(dir_mnist, batch_size=batch_size_shuff, dataset='test',\n",
    "                               random_order=False, null_types='s', p_null_class=100, tile_size=tile_size)\n",
    "    im, label, _ = next(gen_data)\n",
    "    im_shuff.append(im)"
   ]
  },
  {
   "cell_type": "code",
   "execution_count": null,
   "metadata": {},
   "outputs": [],
   "source": [
    "## Plot images\n",
    "\n",
    "plt.figure(figsize=(1.5*batch_size, 1.5*3))\n",
    "for i in range(batch_size):\n",
    "    ax = plt.subplot(3, batch_size, i+1)\n",
    "    plt.imshow(np.reshape(im_uniform[i], (28, 28)), cmap='gray', aspect='equal')\n",
    "    ax.get_xaxis().set_visible(False)\n",
    "    ax.get_yaxis().set_visible(False)            \n",
    "\n",
    "for i in range(batch_size):\n",
    "    ax = plt.subplot(3, batch_size, batch_size+i+1)\n",
    "    plt.imshow(np.reshape(im_mixed[i], (28, 28)), cmap='gray', aspect='equal')\n",
    "    ax.get_xaxis().set_visible(False)\n",
    "    ax.get_yaxis().set_visible(False)            \n",
    "    \n",
    "cnt = 0\n",
    "for i_tile in range(5):\n",
    "    for i_im in range(batch_size_shuff):\n",
    "        cnt += 1\n",
    "        ax = plt.subplot(3, batch_size, 2*batch_size+cnt)\n",
    "        plt.imshow(np.reshape(im_shuff[i_tile][i_im], (28, 28)), cmap='gray', aspect='equal')\n",
    "        ax.get_xaxis().set_visible(False)\n",
    "        ax.get_yaxis().set_visible(False)\n",
    "        \n",
    "plt.savefig('figures/fig_null_image_examples.png', bbox_inches='tight')"
   ]
  }
 ],
 "metadata": {
  "kernelspec": {
   "display_name": "env_tensorflow2",
   "language": "python",
   "name": "env_tensorflow2"
  },
  "language_info": {
   "codemirror_mode": {
    "name": "ipython",
    "version": 3
   },
   "file_extension": ".py",
   "mimetype": "text/x-python",
   "name": "python",
   "nbconvert_exporter": "python",
   "pygments_lexer": "ipython3",
   "version": "3.6.9"
  }
 },
 "nbformat": 4,
 "nbformat_minor": 2
}
