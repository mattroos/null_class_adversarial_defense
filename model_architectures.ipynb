{
 "cells": [
  {
   "cell_type": "code",
   "execution_count": null,
   "metadata": {},
   "outputs": [],
   "source": [
    "#!/usr/bin/env python\n",
    "# coding: utf-8\n",
    "\n",
    "from __future__ import division\n",
    "\n",
    "import numpy as np\n",
    "\n",
    "import tensorflow as tf\n",
    "from tensorflow.keras.optimizers import Adam\n",
    "from tensorflow.keras.layers import Input, Dense, ReLU, Softmax, Dropout, Conv2D, \\\n",
    "                                    Conv1D, MaxPool2D, MaxPool1D, Flatten, Reshape\n",
    "from tensorflow.keras import Model"
   ]
  },
  {
   "cell_type": "code",
   "execution_count": null,
   "metadata": {},
   "outputs": [],
   "source": [
    "def build_model_cnn(include_null_class=False, softmax_output=False):\n",
    "\n",
    "    # Build a neural network architecture using Keras API\n",
    "    x = Input(name='input', shape=(784,), dtype='float32')\n",
    "\n",
    "    ## Using this CNN model:\n",
    "    # https://towardsdatascience.com/a-simple-2d-cnn-for-mnist-digit-recognition-a998dbc1e79a\n",
    "    y = Reshape((28, 28, 1))(x)\n",
    "    y = Conv2D(32, kernel_size=(3, 3), activation='relu')(y)\n",
    "    y = Conv2D(64, (3, 3), activation='relu')(y)\n",
    "    y = MaxPool2D(pool_size=(2, 2))(y)\n",
    "    y = Dropout(0.25)(y)\n",
    "    y = Flatten()(y)\n",
    "    y = Dense(128, activation='relu')(y)\n",
    "    y = Dropout(0.5)(y)\n",
    "    if include_null_class:\n",
    "        y = Dense(11)(y)\n",
    "    else:\n",
    "        y = Dense(10)(y)\n",
    "    if softmax_output:\n",
    "        y = Softmax()(y)\n",
    "\n",
    "    model = Model(inputs=x, outputs=y)\n",
    "    \n",
    "    return model"
   ]
  },
  {
   "cell_type": "code",
   "execution_count": null,
   "metadata": {},
   "outputs": [],
   "source": [
    "def build_model_ramp_cnn(include_null_class=False, softmax_output=False):\n",
    "\n",
    "    # Build a neural network architecture using Keras API\n",
    "    x = Input(name='input', shape=(3,), dtype='float32')\n",
    "\n",
    "    y = Reshape((3, 1))(x)\n",
    "    y = Conv1D(8, kernel_size=2, padding='same', activation='relu')(y)\n",
    "    y = Conv1D(16, kernel_size=2, padding='same', activation='relu')(y)\n",
    "    y = MaxPool1D(pool_size=2, strides=1)(y)\n",
    "    y = Dropout(0.25)(y)\n",
    "    y = Flatten()(y)\n",
    "    y = Dense(32, activation='relu')(y)\n",
    "    y = Dropout(0.5)(y)\n",
    "    if include_null_class:\n",
    "        y = Dense(3)(y)\n",
    "    else:\n",
    "        y = Dense(2)(y)\n",
    "    if softmax_output:\n",
    "        y = Softmax()(y)\n",
    "\n",
    "    model = Model(inputs=x, outputs=y)\n",
    "    \n",
    "    return model"
   ]
  }
 ],
 "metadata": {
  "kernelspec": {
   "display_name": "env_tensorflow2",
   "language": "python",
   "name": "env_tensorflow2"
  },
  "language_info": {
   "codemirror_mode": {
    "name": "ipython",
    "version": 3
   },
   "file_extension": ".py",
   "mimetype": "text/x-python",
   "name": "python",
   "nbconvert_exporter": "python",
   "pygments_lexer": "ipython3",
   "version": "3.6.9"
  }
 },
 "nbformat": 4,
 "nbformat_minor": 2
}
